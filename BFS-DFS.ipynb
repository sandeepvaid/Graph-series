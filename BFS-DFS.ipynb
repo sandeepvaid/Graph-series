{
 "cells": [
  {
   "cell_type": "code",
   "execution_count": 6,
   "id": "e0721cf5-3653-44d5-82cb-00cd56e86422",
   "metadata": {},
   "outputs": [
    {
     "name": "stdout",
     "output_type": "stream",
     "text": [
      "1\n"
     ]
    },
    {
     "data": {
      "text/plain": [
       "1"
      ]
     },
     "execution_count": 6,
     "metadata": {},
     "output_type": "execute_result"
    }
   ],
   "source": [
    "#Total number of provinces\n",
    "#Link -> https://practice.geeksforgeeks.org/problems/number-of-provinces/1?utm_source=youtube&utm_medium=collab_striver_ytdescription&utm_campaign=number_of_provinces\n",
    "class Solution:\n",
    "    \n",
    "    def helper(self,i,adj,vis,V):\n",
    "        vis[i] = True\n",
    "        for j in range(V):\n",
    "            if adj[i][j] == 1 and vis[j] == False:\n",
    "                self.helper(j,adj,vis,V)\n",
    "        return 1\n",
    "    \n",
    "    def numProvinces(self, adj, V):\n",
    "        # code here \n",
    "        \n",
    "        vis = [False for i in range(V)]\n",
    "        ans = 0\n",
    "        for i in range(V):\n",
    "            if vis[i] == False:\n",
    "                ans += self.helper(i,adj,vis,V)\n",
    "        print(ans)\n",
    "        return ans\n",
    "\n",
    "s = Solution()\n",
    "mat =[\n",
    " [1, 1],\n",
    " [1, 1]\n",
    "]\n",
    "s.numProvinces(mat,2)\n",
    "\n",
    "#Tc For DFS ->  O(V * 2E)\n",
    "#TC for this problem -> O(n) + O(V * 2E)\n",
    "#SC -> O(n)"
   ]
  },
  {
   "cell_type": "code",
   "execution_count": 11,
   "id": "0957df1d-2c25-406a-8e51-1b6b66f9544e",
   "metadata": {},
   "outputs": [
    {
     "name": "stdout",
     "output_type": "stream",
     "text": [
      "[[False, True, True, True], [False, False, True, False], [False, True, False, True], [True, False, False, True], [True, False, False, False], [True, True, False, True], [False, True, False, True], [True, True, False, False]]\n"
     ]
    },
    {
     "data": {
      "text/plain": [
       "2"
      ]
     },
     "execution_count": 11,
     "metadata": {},
     "output_type": "execute_result"
    }
   ],
   "source": [
    "#User function Template for python3\n",
    "#Count number of island\n",
    "import sys\n",
    "sys.setrecursionlimit(10**8)\n",
    "class Solution:\n",
    "\n",
    "    def helper(self,i,j,grid,vis):\n",
    "        \n",
    "        if i < 0 or i >= len(grid) or j < 0 or j >= len(grid[0]) or grid[i][j] == 0 or vis[i][j] == True :\n",
    "            return 0\n",
    "\n",
    "        vis[i][j] = True\n",
    "        self.helper(i+1,j,grid,vis)\n",
    "        self.helper(i+1,j-1,grid,vis)\n",
    "        self.helper(i+1,j+1,grid,vis)\n",
    "        self.helper(i,j+1,grid,vis)\n",
    "        self.helper(i,j-1,grid,vis)\n",
    "        self.helper(i-1,j,grid,vis)\n",
    "        self.helper(i-1,j+1,grid,vis)\n",
    "        self.helper(i-1,j-1,grid,vis)\n",
    "\n",
    "        return 1\n",
    "    def numIslands(self,grid):\n",
    "        #code here\n",
    "        ans = 0\n",
    "        n = len(grid)\n",
    "        m = len(grid[0])\n",
    "        vis = [[False for j in range(m)] for i in range(n)]\n",
    "        for i in range(n):\n",
    "            for j in range(m):\n",
    "                if grid[i][j] == 1 and vis[i][j] == False:\n",
    "                    ans += self.helper(i,j,grid,vis)\n",
    "\n",
    "        return ans\n",
    "s = Solution()\n",
    "mat = [\n",
    "  [0, 1, 1, 1],\n",
    "  [0, 0, 1, 0],\n",
    "  [0, 1, 0, 1],\n",
    "  [1, 0, 0, 1],\n",
    "  [1, 0, 0, 0],\n",
    "  [1, 1, 0, 1],\n",
    "  [0, 1, 0, 1],\n",
    "  [1, 1, 0, 0]\n",
    "]\n",
    "s.numIslands(mat)\n",
    "#TC -> O(n^2)"
   ]
  },
  {
   "cell_type": "code",
   "execution_count": 26,
   "id": "10d1c03b-f157-47aa-afd0-289ca4bfe8b2",
   "metadata": {},
   "outputs": [
    {
     "name": "stdout",
     "output_type": "stream",
     "text": [
      "0 False\n",
      "0 False\n",
      "0 False\n",
      "0 False\n",
      "0 False\n",
      "0 True\n"
     ]
    },
    {
     "ename": "IndexError",
     "evalue": "list assignment index out of range",
     "output_type": "error",
     "traceback": [
      "\u001b[0;31m---------------------------------------------------------------------------\u001b[0m",
      "\u001b[0;31mIndexError\u001b[0m                                Traceback (most recent call last)",
      "Cell \u001b[0;32mIn[26], line 22\u001b[0m\n\u001b[1;32m     19\u001b[0m         \u001b[38;5;28;01mreturn\u001b[39;00m image\n\u001b[1;32m     21\u001b[0m s \u001b[38;5;241m=\u001b[39m Solution()\n\u001b[0;32m---> 22\u001b[0m result \u001b[38;5;241m=\u001b[39m \u001b[43ms\u001b[49m\u001b[38;5;241;43m.\u001b[39;49m\u001b[43mfloodFill\u001b[49m\u001b[43m(\u001b[49m\u001b[43m[\u001b[49m\n\u001b[1;32m     23\u001b[0m \u001b[43m  \u001b[49m\u001b[43m[\u001b[49m\u001b[38;5;241;43m2\u001b[39;49m\u001b[43m,\u001b[49m\u001b[43m \u001b[49m\u001b[38;5;241;43m1\u001b[39;49m\u001b[43m,\u001b[49m\u001b[43m \u001b[49m\u001b[38;5;241;43m2\u001b[39;49m\u001b[43m,\u001b[49m\u001b[43m \u001b[49m\u001b[38;5;241;43m1\u001b[39;49m\u001b[43m,\u001b[49m\u001b[43m \u001b[49m\u001b[38;5;241;43m3\u001b[39;49m\u001b[43m]\u001b[49m\u001b[43m,\u001b[49m\n\u001b[1;32m     24\u001b[0m \u001b[43m  \u001b[49m\u001b[43m[\u001b[49m\u001b[38;5;241;43m2\u001b[39;49m\u001b[43m,\u001b[49m\u001b[43m \u001b[49m\u001b[38;5;241;43m3\u001b[39;49m\u001b[43m,\u001b[49m\u001b[43m \u001b[49m\u001b[38;5;241;43m3\u001b[39;49m\u001b[43m,\u001b[49m\u001b[43m \u001b[49m\u001b[38;5;241;43m3\u001b[39;49m\u001b[43m,\u001b[49m\u001b[43m \u001b[49m\u001b[38;5;241;43m2\u001b[39;49m\u001b[43m]\u001b[49m\u001b[43m,\u001b[49m\n\u001b[1;32m     25\u001b[0m \u001b[43m  \u001b[49m\u001b[43m[\u001b[49m\u001b[38;5;241;43m2\u001b[39;49m\u001b[43m,\u001b[49m\u001b[43m \u001b[49m\u001b[38;5;241;43m3\u001b[39;49m\u001b[43m,\u001b[49m\u001b[43m \u001b[49m\u001b[38;5;241;43m1\u001b[39;49m\u001b[43m,\u001b[49m\u001b[43m \u001b[49m\u001b[38;5;241;43m3\u001b[39;49m\u001b[43m,\u001b[49m\u001b[43m \u001b[49m\u001b[38;5;241;43m2\u001b[39;49m\u001b[43m]\u001b[49m\u001b[43m,\u001b[49m\n\u001b[1;32m     26\u001b[0m \u001b[43m  \u001b[49m\u001b[43m[\u001b[49m\u001b[38;5;241;43m1\u001b[39;49m\u001b[43m,\u001b[49m\u001b[43m \u001b[49m\u001b[38;5;241;43m2\u001b[39;49m\u001b[43m,\u001b[49m\u001b[43m \u001b[49m\u001b[38;5;241;43m3\u001b[39;49m\u001b[43m,\u001b[49m\u001b[43m \u001b[49m\u001b[38;5;241;43m2\u001b[39;49m\u001b[43m,\u001b[49m\u001b[43m \u001b[49m\u001b[38;5;241;43m2\u001b[39;49m\u001b[43m]\u001b[49m\n\u001b[1;32m     27\u001b[0m \u001b[43m]\u001b[49m\n\u001b[1;32m     28\u001b[0m \u001b[43m,\u001b[49m\u001b[43m \u001b[49m\u001b[38;5;241;43m0\u001b[39;49m\u001b[43m,\u001b[49m\u001b[43m \u001b[49m\u001b[38;5;241;43m0\u001b[39;49m\u001b[43m,\u001b[49m\u001b[43m \u001b[49m\u001b[38;5;241;43m1\u001b[39;49m\u001b[43m)\u001b[49m\n\u001b[1;32m     30\u001b[0m \u001b[38;5;28mprint\u001b[39m(result)\n",
      "Cell \u001b[0;32mIn[26], line 18\u001b[0m, in \u001b[0;36mSolution.floodFill\u001b[0;34m(self, image, sr, sc, newColor)\u001b[0m\n\u001b[1;32m     16\u001b[0m vis \u001b[38;5;241m=\u001b[39m [[\u001b[38;5;28;01mFalse\u001b[39;00m \u001b[38;5;28;01mfor\u001b[39;00m j \u001b[38;5;129;01min\u001b[39;00m \u001b[38;5;28mrange\u001b[39m(\u001b[38;5;28mlen\u001b[39m(image[\u001b[38;5;241m0\u001b[39m]))] \u001b[38;5;28;01mfor\u001b[39;00m i \u001b[38;5;129;01min\u001b[39;00m \u001b[38;5;28mrange\u001b[39m(\u001b[38;5;28mlen\u001b[39m(image))]\n\u001b[1;32m     17\u001b[0m pixVal \u001b[38;5;241m=\u001b[39m image[sr][sc]\n\u001b[0;32m---> 18\u001b[0m \u001b[38;5;28;43mself\u001b[39;49m\u001b[38;5;241;43m.\u001b[39;49m\u001b[43mhelper\u001b[49m\u001b[43m(\u001b[49m\u001b[43msr\u001b[49m\u001b[43m,\u001b[49m\u001b[43m \u001b[49m\u001b[43msc\u001b[49m\u001b[43m,\u001b[49m\u001b[43m \u001b[49m\u001b[43mnewColor\u001b[49m\u001b[43m,\u001b[49m\u001b[43m \u001b[49m\u001b[43mimage\u001b[49m\u001b[43m,\u001b[49m\u001b[43m \u001b[49m\u001b[43mvis\u001b[49m\u001b[43m,\u001b[49m\u001b[43mpixVal\u001b[49m\u001b[43m)\u001b[49m\n\u001b[1;32m     19\u001b[0m \u001b[38;5;28;01mreturn\u001b[39;00m image\n",
      "Cell \u001b[0;32mIn[26], line 10\u001b[0m, in \u001b[0;36mSolution.helper\u001b[0;34m(self, sr, sc, nc, image, vis, pixVal)\u001b[0m\n\u001b[1;32m      8\u001b[0m vis[sr][sc] \u001b[38;5;241m=\u001b[39m \u001b[38;5;28;01mTrue\u001b[39;00m\n\u001b[1;32m      9\u001b[0m image[sr][sc] \u001b[38;5;241m=\u001b[39m nc\n\u001b[0;32m---> 10\u001b[0m \u001b[38;5;28;43mself\u001b[39;49m\u001b[38;5;241;43m.\u001b[39;49m\u001b[43mhelper\u001b[49m\u001b[43m(\u001b[49m\u001b[43msr\u001b[49m\u001b[43m,\u001b[49m\u001b[43m \u001b[49m\u001b[43msc\u001b[49m\u001b[43m \u001b[49m\u001b[38;5;241;43m+\u001b[39;49m\u001b[43m \u001b[49m\u001b[38;5;241;43m1\u001b[39;49m\u001b[43m,\u001b[49m\u001b[43m \u001b[49m\u001b[43mnc\u001b[49m\u001b[43m,\u001b[49m\u001b[43m \u001b[49m\u001b[43mimage\u001b[49m\u001b[43m,\u001b[49m\u001b[43m \u001b[49m\u001b[43mvis\u001b[49m\u001b[43m,\u001b[49m\u001b[43mpixVal\u001b[49m\u001b[43m)\u001b[49m\n\u001b[1;32m     11\u001b[0m \u001b[38;5;28mself\u001b[39m\u001b[38;5;241m.\u001b[39mhelper(sr, sc \u001b[38;5;241m-\u001b[39m \u001b[38;5;241m1\u001b[39m, nc, image, vis,pixVal)\n\u001b[1;32m     12\u001b[0m \u001b[38;5;28mself\u001b[39m\u001b[38;5;241m.\u001b[39mhelper(sr \u001b[38;5;241m+\u001b[39m \u001b[38;5;241m1\u001b[39m, sc, nc, image, vis,pixVal)\n",
      "Cell \u001b[0;32mIn[26], line 10\u001b[0m, in \u001b[0;36mSolution.helper\u001b[0;34m(self, sr, sc, nc, image, vis, pixVal)\u001b[0m\n\u001b[1;32m      8\u001b[0m vis[sr][sc] \u001b[38;5;241m=\u001b[39m \u001b[38;5;28;01mTrue\u001b[39;00m\n\u001b[1;32m      9\u001b[0m image[sr][sc] \u001b[38;5;241m=\u001b[39m nc\n\u001b[0;32m---> 10\u001b[0m \u001b[38;5;28;43mself\u001b[39;49m\u001b[38;5;241;43m.\u001b[39;49m\u001b[43mhelper\u001b[49m\u001b[43m(\u001b[49m\u001b[43msr\u001b[49m\u001b[43m,\u001b[49m\u001b[43m \u001b[49m\u001b[43msc\u001b[49m\u001b[43m \u001b[49m\u001b[38;5;241;43m+\u001b[39;49m\u001b[43m \u001b[49m\u001b[38;5;241;43m1\u001b[39;49m\u001b[43m,\u001b[49m\u001b[43m \u001b[49m\u001b[43mnc\u001b[49m\u001b[43m,\u001b[49m\u001b[43m \u001b[49m\u001b[43mimage\u001b[49m\u001b[43m,\u001b[49m\u001b[43m \u001b[49m\u001b[43mvis\u001b[49m\u001b[43m,\u001b[49m\u001b[43mpixVal\u001b[49m\u001b[43m)\u001b[49m\n\u001b[1;32m     11\u001b[0m \u001b[38;5;28mself\u001b[39m\u001b[38;5;241m.\u001b[39mhelper(sr, sc \u001b[38;5;241m-\u001b[39m \u001b[38;5;241m1\u001b[39m, nc, image, vis,pixVal)\n\u001b[1;32m     12\u001b[0m \u001b[38;5;28mself\u001b[39m\u001b[38;5;241m.\u001b[39mhelper(sr \u001b[38;5;241m+\u001b[39m \u001b[38;5;241m1\u001b[39m, sc, nc, image, vis,pixVal)\n",
      "    \u001b[0;31m[... skipping similar frames: Solution.helper at line 10 (2 times)]\u001b[0m\n",
      "Cell \u001b[0;32mIn[26], line 10\u001b[0m, in \u001b[0;36mSolution.helper\u001b[0;34m(self, sr, sc, nc, image, vis, pixVal)\u001b[0m\n\u001b[1;32m      8\u001b[0m vis[sr][sc] \u001b[38;5;241m=\u001b[39m \u001b[38;5;28;01mTrue\u001b[39;00m\n\u001b[1;32m      9\u001b[0m image[sr][sc] \u001b[38;5;241m=\u001b[39m nc\n\u001b[0;32m---> 10\u001b[0m \u001b[38;5;28;43mself\u001b[39;49m\u001b[38;5;241;43m.\u001b[39;49m\u001b[43mhelper\u001b[49m\u001b[43m(\u001b[49m\u001b[43msr\u001b[49m\u001b[43m,\u001b[49m\u001b[43m \u001b[49m\u001b[43msc\u001b[49m\u001b[43m \u001b[49m\u001b[38;5;241;43m+\u001b[39;49m\u001b[43m \u001b[49m\u001b[38;5;241;43m1\u001b[39;49m\u001b[43m,\u001b[49m\u001b[43m \u001b[49m\u001b[43mnc\u001b[49m\u001b[43m,\u001b[49m\u001b[43m \u001b[49m\u001b[43mimage\u001b[49m\u001b[43m,\u001b[49m\u001b[43m \u001b[49m\u001b[43mvis\u001b[49m\u001b[43m,\u001b[49m\u001b[43mpixVal\u001b[49m\u001b[43m)\u001b[49m\n\u001b[1;32m     11\u001b[0m \u001b[38;5;28mself\u001b[39m\u001b[38;5;241m.\u001b[39mhelper(sr, sc \u001b[38;5;241m-\u001b[39m \u001b[38;5;241m1\u001b[39m, nc, image, vis,pixVal)\n\u001b[1;32m     12\u001b[0m \u001b[38;5;28mself\u001b[39m\u001b[38;5;241m.\u001b[39mhelper(sr \u001b[38;5;241m+\u001b[39m \u001b[38;5;241m1\u001b[39m, sc, nc, image, vis,pixVal)\n",
      "Cell \u001b[0;32mIn[26], line 8\u001b[0m, in \u001b[0;36mSolution.helper\u001b[0;34m(self, sr, sc, nc, image, vis, pixVal)\u001b[0m\n\u001b[1;32m      6\u001b[0m     \u001b[38;5;28;01mreturn\u001b[39;00m\n\u001b[1;32m      7\u001b[0m \u001b[38;5;28mprint\u001b[39m(sr,sc\u001b[38;5;241m>\u001b[39m\u001b[38;5;241m=\u001b[39m\u001b[38;5;28mlen\u001b[39m(image[\u001b[38;5;241m0\u001b[39m]))\n\u001b[0;32m----> 8\u001b[0m \u001b[43mvis\u001b[49m\u001b[43m[\u001b[49m\u001b[43msr\u001b[49m\u001b[43m]\u001b[49m\u001b[43m[\u001b[49m\u001b[43msc\u001b[49m\u001b[43m]\u001b[49m \u001b[38;5;241m=\u001b[39m \u001b[38;5;28;01mTrue\u001b[39;00m\n\u001b[1;32m      9\u001b[0m image[sr][sc] \u001b[38;5;241m=\u001b[39m nc\n\u001b[1;32m     10\u001b[0m \u001b[38;5;28mself\u001b[39m\u001b[38;5;241m.\u001b[39mhelper(sr, sc \u001b[38;5;241m+\u001b[39m \u001b[38;5;241m1\u001b[39m, nc, image, vis,pixVal)\n",
      "\u001b[0;31mIndexError\u001b[0m: list assignment index out of range"
     ]
    }
   ],
   "source": [
    "# Flood fill algorithm\n",
    "class Solution:\n",
    "\n",
    "    def helper(self, sr, sc, nc, image, vis,pixVal):\n",
    "        if sr < 0 or sr >= len(image) and sc < 0 and sc >= len(image[0]) and vis[sr][sc]==True  and image[sr][sc] != pixVal:\n",
    "            return\n",
    "        print(sr,sc>=len(image[0]))\n",
    "        vis[sr][sc] = True\n",
    "        image[sr][sc] = nc\n",
    "        self.helper(sr, sc + 1, nc, image, vis,pixVal)\n",
    "        self.helper(sr, sc - 1, nc, image, vis,pixVal)\n",
    "        self.helper(sr + 1, sc, nc, image, vis,pixVal)\n",
    "        self.helper(sr - 1, sc, nc, image, vis,pixVal)\n",
    "\n",
    "    def floodFill(self, image, sr, sc, newColor):\n",
    "        vis = [[False for j in range(len(image[0]))] for i in range(len(image))]\n",
    "        pixVal = image[sr][sc]\n",
    "        self.helper(sr, sc, newColor, image, vis,pixVal)\n",
    "        return image\n",
    "\n",
    "s = Solution()\n",
    "result = s.floodFill([\n",
    "  [2, 1, 2, 1, 3],\n",
    "  [2, 3, 3, 3, 2],\n",
    "  [2, 3, 1, 3, 2],\n",
    "  [1, 2, 3, 2, 2]\n",
    "]\n",
    ", 0, 0, 1)\n",
    "\n",
    "print(result)\n"
   ]
  }
 ],
 "metadata": {
  "kernelspec": {
   "display_name": "Python 3 (ipykernel)",
   "language": "python",
   "name": "python3"
  },
  "language_info": {
   "codemirror_mode": {
    "name": "ipython",
    "version": 3
   },
   "file_extension": ".py",
   "mimetype": "text/x-python",
   "name": "python",
   "nbconvert_exporter": "python",
   "pygments_lexer": "ipython3",
   "version": "3.10.12"
  }
 },
 "nbformat": 4,
 "nbformat_minor": 5
}
